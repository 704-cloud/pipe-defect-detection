{
 "cells": [
  {
   "cell_type": "markdown",
   "id": "caa9e500",
   "metadata": {},
   "source": [
    "pipe-defect-detection"
   ]
  },
  {
   "cell_type": "code",
   "execution_count": null,
   "id": "22769ce1",
   "metadata": {},
   "outputs": [],
   "source": [
    "from ultralytics import YOLO\n",
    "import os\n",
    "import pandas as pd\n",
    "import numpy as np\n",
    "import matplotlib.pyplot as plt"
   ]
  },
  {
   "cell_type": "markdown",
   "id": "8cb6beb9",
   "metadata": {},
   "source": [
    "Data for training "
   ]
  },
  {
   "cell_type": "code",
   "execution_count": null,
   "id": "0ef33509",
   "metadata": {},
   "outputs": [],
   "source": [
    "path: data\n",
    "train: images/train\n",
    "val: images/val\n",
    "nc: 6\n",
    "names:\n",
    "  0: Deformation\n",
    "  1: Obstacle\n",
    "  2: Rupture\n",
    "  3: Disconnect\n",
    "  4: Leakage\n",
    "  5: Corrosion\n"
   ]
  },
  {
   "cell_type": "markdown",
   "id": "d17b918a",
   "metadata": {},
   "source": [
    "train code"
   ]
  },
  {
   "cell_type": "code",
   "execution_count": null,
   "id": "09f34d9d",
   "metadata": {},
   "outputs": [],
   "source": [
    "path: data\n",
    "train: images/train\n",
    "val: images/val\n",
    "nc: 6\n",
    "names:\n",
    "  0: Deformation\n",
    "  1: Obstacle\n",
    "  2: Rupture\n",
    "  3: Disconnect\n",
    "  4: Leakage\n",
    "  5: Corrosion\n"
   ]
  },
  {
   "cell_type": "markdown",
   "id": "380e4a72",
   "metadata": {},
   "source": [
    "testing train model code"
   ]
  },
  {
   "cell_type": "code",
   "execution_count": null,
   "id": "aa91e00a",
   "metadata": {},
   "outputs": [],
   "source": [
    "from ultralytics import YOLO\n",
    "import os\n",
    "\n",
    "\n",
    "model_path = r\"D:\\YOLO_results\\pipe_defect_yolo21\\weights\\best.pt\"\n",
    "\n",
    "\n",
    "\n",
    "model = YOLO(model_path)\n",
    "\n",
    "\n",
    "test_images_folder = r\"E:\\pipe-defect\\test_images\"\n",
    "\n",
    "if not os.path.exists(test_images_folder):\n",
    "    raise FileNotFoundError(f\" {test_images_folder}\")\n",
    "\n",
    "\n",
    "results = model.predict(\n",
    "    source=test_images_folder,\n",
    "    conf=0.5,                 \n",
    "    save=True,                \n",
    "    save_dir=r\"E:\\pipe-defect\\project_results\"  \n",
    ")\n",
    "\n",
    "\n",
    "for r in results:\n",
    "    r.show()\n"
   ]
  }
 ],
 "metadata": {
  "language_info": {
   "name": "python"
  }
 },
 "nbformat": 4,
 "nbformat_minor": 5
}
